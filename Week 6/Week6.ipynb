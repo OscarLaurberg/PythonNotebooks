{
 "metadata": {
  "language_info": {
   "codemirror_mode": {
    "name": "ipython",
    "version": 3
   },
   "file_extension": ".py",
   "mimetype": "text/x-python",
   "name": "python",
   "nbconvert_exporter": "python",
   "pygments_lexer": "ipython3",
   "version": "3.7.6-final"
  },
  "orig_nbformat": 2,
  "kernelspec": {
   "name": "python_defaultSpec_1602078126743",
   "display_name": "Python 3.7.6 64-bit"
  }
 },
 "nbformat": 4,
 "nbformat_minor": 2,
 "cells": [
  {
   "cell_type": "code",
   "execution_count": 1,
   "metadata": {
    "tags": []
   },
   "outputs": [
    {
     "output_type": "stream",
     "name": "stderr",
     "text": "100%|██████████| 10/10 [00:05<00:00,  1.93it/s]\nfilenames\n63396\n63400\n63394\n63390\n63387\n63380\n63379\n63378\n63377\n63376\nurls\n"
    },
    {
     "output_type": "error",
     "ename": "TypeError",
     "evalue": "'method' object is not iterable",
     "traceback": [
      "\u001b[0;31m---------------------------------------------------------------------------\u001b[0m",
      "\u001b[0;31mTypeError\u001b[0m                                 Traceback (most recent call last)",
      "\u001b[0;32m<ipython-input-1-ae0e48833796>\u001b[0m in \u001b[0;36m<module>\u001b[0;34m\u001b[0m\n\u001b[1;32m     23\u001b[0m         \u001b[0mprint\u001b[0m\u001b[0;34m(\u001b[0m\u001b[0mfile\u001b[0m\u001b[0;34m)\u001b[0m\u001b[0;34m\u001b[0m\u001b[0;34m\u001b[0m\u001b[0m\n\u001b[1;32m     24\u001b[0m \u001b[0mprint\u001b[0m\u001b[0;34m(\u001b[0m\u001b[0;34m'urls'\u001b[0m\u001b[0;34m)\u001b[0m\u001b[0;34m\u001b[0m\u001b[0;34m\u001b[0m\u001b[0m\n\u001b[0;32m---> 25\u001b[0;31m \u001b[0;32mfor\u001b[0m \u001b[0murl\u001b[0m \u001b[0;32min\u001b[0m \u001b[0miterator\u001b[0m\u001b[0;34m.\u001b[0m\u001b[0murllist_generator\u001b[0m\u001b[0;34m:\u001b[0m\u001b[0;34m\u001b[0m\u001b[0;34m\u001b[0m\u001b[0m\n\u001b[0m\u001b[1;32m     26\u001b[0m         \u001b[0mprint\u001b[0m\u001b[0;34m(\u001b[0m\u001b[0murl\u001b[0m\u001b[0;34m)\u001b[0m\u001b[0;34m\u001b[0m\u001b[0;34m\u001b[0m\u001b[0m\n\u001b[1;32m     27\u001b[0m \u001b[0;34m\u001b[0m\u001b[0m\n",
      "\u001b[0;31mTypeError\u001b[0m: 'method' object is not iterable"
     ]
    }
   ],
   "source": [
    "import sys\n",
    "# insert at position 1 in the path, as 0 is the path of this file.\n",
    "sys.path.insert(1, '../modules/')\n",
    "import iterator_module\n",
    "\n",
    "urls = ['https://www.gutenberg.org/files/63396/63396-0.txt',\n",
    "        'https://www.gutenberg.org/files/63400/63400-0.txt',\n",
    "        'https://www.gutenberg.org/files/63394/63394-0.txt',\n",
    "        'https://www.gutenberg.org/files/63390/63390-0.txt',\n",
    "        'https://www.gutenberg.org/files/63387/63387-0.txt',\n",
    "        'https://www.gutenberg.org/files/63380/63380-0.txt',\n",
    "        'https://www.gutenberg.org/files/63379/63379-0.txt',\n",
    "        'http://www.gutenberg.org/cache/epub/63378/pg63378.txt',\n",
    "        'https://www.gutenberg.org/files/63377/63377-0.txt',\n",
    "        'https://www.gutenberg.org/files/63376/63376-0.txt']\n",
    "\n",
    "\n",
    "iterator = iterator_module.MyIterator(urls)\n",
    "iterator.multi_download()\n",
    "\n",
    "print('filenames')\n",
    "for file in iterator.filenames:\n",
    "        print(file)\n",
    "print('urls')\n",
    "for url in iterator.urllist_generator():\n",
    "        print(url)\n",
    "\n",
    "print('Filename and avg. no. of vowels:')        \n",
    "print(iterator.average_number_of_vowels(iterator.filenames[0]))\n",
    "\n",
    "iterator.hardest_read()"
   ]
  },
  {
   "cell_type": "code",
   "execution_count": null,
   "metadata": {},
   "outputs": [],
   "source": []
  },
  {
   "cell_type": "code",
   "execution_count": null,
   "metadata": {},
   "outputs": [],
   "source": []
  },
  {
   "cell_type": "code",
   "execution_count": null,
   "metadata": {},
   "outputs": [],
   "source": []
  }
 ]
}