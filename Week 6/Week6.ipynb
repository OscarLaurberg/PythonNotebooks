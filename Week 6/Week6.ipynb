{
 "metadata": {
  "language_info": {
   "codemirror_mode": {
    "name": "ipython",
    "version": 3
   },
   "file_extension": ".py",
   "mimetype": "text/x-python",
   "name": "python",
   "nbconvert_exporter": "python",
   "pygments_lexer": "ipython3",
   "version": "3.7.6-final"
  },
  "orig_nbformat": 2,
  "kernelspec": {
   "name": "Python 3.7.6 64-bit ('conda': virtualenv)",
   "display_name": "Python 3.7.6 64-bit ('conda': virtualenv)",
   "metadata": {
    "interpreter": {
     "hash": "17330fd1f37a4cd2fd3bf532bef957a312b99778f82ce1c7b310cf88b8656cad"
    }
   }
  }
 },
 "nbformat": 4,
 "nbformat_minor": 2,
 "cells": [
  {
   "cell_type": "code",
   "execution_count": 1,
   "metadata": {
    "tags": []
   },
   "outputs": [
    {
     "output_type": "stream",
     "name": "stderr",
     "text": "100%|██████████| 10/10 [00:04&lt;00:00,  2.06it/s]filenames\n63396\n63400\n63394\n63390\n63387\n63380\n63379\n63378\n63377\n63376\nurls\nhttps://www.gutenberg.org/files/63396/63396-0.txt\nhttps://www.gutenberg.org/files/63400/63400-0.txt\nhttps://www.gutenberg.org/files/63394/63394-0.txt\nhttps://www.gutenberg.org/files/63390/63390-0.txt\nhttps://www.gutenberg.org/files/63387/63387-0.txt\nhttps://www.gutenberg.org/files/63380/63380-0.txt\nhttps://www.gutenberg.org/files/63379/63379-0.txt\nhttp://www.gutenberg.org/cache/epub/63378/pg63378.txt\nhttps://www.gutenberg.org/files/63377/63377-0.txt\nhttps://www.gutenberg.org/files/63376/63376-0.txt\nFilename and avg. no. of vowels:\n(&#39;63396&#39;, 1.8466082198594789)\n\n***************\n[(&#39;63396&#39;, 1.8466082198594789), (&#39;63400&#39;, 1.8500820344544708), (&#39;63394&#39;, 1.6479257220750496), (&#39;63390&#39;, 1.8149454206866493), (&#39;63387&#39;, 1.573471362229102), (&#39;63380&#39;, 1.9296769726006888), (&#39;63379&#39;, 1.681694960875166), (&#39;63378&#39;, 1.8913140311804009), (&#39;63377&#39;, 1.8128961577588232), (&#39;63376&#39;, 1.7511861680739846)]\n[(&#39;63387&#39;, 1.573471362229102), (&#39;63394&#39;, 1.6479257220750496), (&#39;63379&#39;, 1.681694960875166), (&#39;63376&#39;, 1.7511861680739846), (&#39;63377&#39;, 1.8128961577588232), (&#39;63390&#39;, 1.8149454206866493), (&#39;63396&#39;, 1.8466082198594789), (&#39;63400&#39;, 1.8500820344544708), (&#39;63378&#39;, 1.8913140311804009), (&#39;63380&#39;, 1.9296769726006888)]\n"
    },
    {
     "output_type": "execute_result",
     "data": {
      "text/plain": "&#39;Hardest read is filename: 63380, with and avg. of 1.9296769726006888 vowels per word&#39;"
     },
     "metadata": {},
     "execution_count": 1
    }
   ],
   "source": [
    "import sys\n",
    "# insert at position 1 in the path, as 0 is the path of this file.\n",
    "sys.path.insert(1, '../modules/')\n",
    "import iterator_module\n",
    "\n",
    "urls = ['https://www.gutenberg.org/files/63396/63396-0.txt',\n",
    "        'https://www.gutenberg.org/files/63400/63400-0.txt',\n",
    "        'https://www.gutenberg.org/files/63394/63394-0.txt',\n",
    "        'https://www.gutenberg.org/files/63390/63390-0.txt',\n",
    "        'https://www.gutenberg.org/files/63387/63387-0.txt',\n",
    "        'https://www.gutenberg.org/files/63380/63380-0.txt',\n",
    "        'https://www.gutenberg.org/files/63379/63379-0.txt',\n",
    "        'http://www.gutenberg.org/cache/epub/63378/pg63378.txt',\n",
    "        'https://www.gutenberg.org/files/63377/63377-0.txt',\n",
    "        'https://www.gutenberg.org/files/63376/63376-0.txt']\n",
    "\n",
    "\n",
    "iterator = iterator_module.MyIterator(urls)\n",
    "iterator.multi_download()\n",
    "\n",
    "print('filenames')\n",
    "for file in iterator.filenames:\n",
    "        print(file)\n",
    "print('urls')\n",
    "for url in iterator.urllist_generator():\n",
    "        print(url)\n",
    "\n",
    "print('Filename and avg. no. of vowels:')        \n",
    "print(iterator.average_number_of_vowels(iterator.filenames[0]))\n",
    "\n",
    "iterator.hardest_read()\n",
    "iterator.make_plot()"
   ]
  },
  {
   "cell_type": "code",
   "execution_count": null,
   "metadata": {},
   "outputs": [],
   "source": []
  },
  {
   "cell_type": "code",
   "execution_count": null,
   "metadata": {},
   "outputs": [],
   "source": []
  },
  {
   "cell_type": "code",
   "execution_count": null,
   "metadata": {},
   "outputs": [],
   "source": []
  }
 ]
}