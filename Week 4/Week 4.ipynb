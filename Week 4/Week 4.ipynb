{
 "cells": [
  {
   "cell_type": "code",
   "execution_count": 5,
   "metadata": {},
   "outputs": [
    {
     "name": "stdout",
     "output_type": "stream",
     "text": [
      "{'Indre By': 43602, 'Østerbro': 116024, 'Nørrebro': 213582, 'Vesterbro/Kgs. Enghave': 231996, 'Valby': 240295, 'Vanløse': 204648, 'Brønshøj-Husum': 334593, 'Bispebjerg': 455064, 'Amager Øst': 463842, 'Amager Vest': 539030, 'Udenfor': 1922580}\n"
     ]
    },
    {
     "data": {
      "text/plain": [
       "<BarContainer object of 11 artists>"
      ]
     },
     "execution_count": 5,
     "metadata": {},
     "output_type": "execute_result"
    },
    {
     "data": {
      "image/png": "[encoded data removed]",
      "text/plain": [
       "<Figure size 432x288 with 1 Axes>"
      ]
     },
     "metadata": {
      "needs_background": "light"
     },
     "output_type": "display_data"
    }
   ],
   "source": [
    "import numpy as np\n",
    "import matplotlib.pyplot as plot\n",
    "\n",
    "data = np.genfromtxt('../../data/befkbhalderstatkode.csv', delimiter=',', dtype=np.uint, skip_header=1)\n",
    "\n",
    "neighb = {1: 'Indre By', 2: 'Østerbro', 3: 'Nørrebro', 4: 'Vesterbro/Kgs. Enghave', \n",
    "       5: 'Valby', 6: 'Vanløse', 7: 'Brønshøj-Husum', 8: 'Bispebjerg', 9: 'Amager Øst', \n",
    "       10: 'Amager Vest', 99: 'Udenfor'}\n",
    "\n",
    "\n",
    "amount_of_citizens = {v: np.sum(data[data[:,1] == k][:,1]) for k,v in neighb.items()}\n",
    "print(amount_of_citizens)\n",
    "\n",
    "sort_amount_of_citizens = {k: v for k,v in sorted(amount_of_citizens.items(), key=lambda x: x[1])}\n",
    "\n",
    "plot.bar(sort_amount_of_citizens.keys(), sort_amount_of_citizens.values())\n",
    "\n"
   ]
  },
  {
   "cell_type": "code",
   "execution_count": 4,
   "metadata": {},
   "outputs": [
    {
     "name": "stdout",
     "output_type": "stream",
     "text": [
      "55750\n",
      "finland: \n",
      "2\n",
      "norway: \n",
      "236\n",
      "sweden: \n",
      "2\n",
      "total nordics except DK\n",
      "240\n"
     ]
    }
   ],
   "source": [
    "# Create a boolean mask to find out how many people above 65 years lived in Copenhagen in 2015\n",
    "above_65_2015 = (data[:, 0] == 2015) & (data[:, 2] > 65)\n",
    "print(np.sum(data[above_65_2015][:, 4]))\n",
    "\n",
    "\n",
    "# How many of those were from the other nordic countries (not dk)\n",
    "above_65_2015_finland = (data[:, 0] == 2015) & (data[:, 2] > 65) & (data[:, 3] == 5105) \n",
    "above_65_2015_norway = (data[:, 0] == 2015) & (data[:, 2] > 65) & (data[:, 3] == 5110)\n",
    "above_65_2015_sweden = (data[:, 0] == 2015) & (data[:, 2] > 65) & (data[:, 3] == 5122)\n",
    "finland_count = np.sum(data[above_65_2015_finland][:, 4])\n",
    "sweden_count = np.sum(data[above_65_2015_sweden][:,4])\n",
    "norway_count = np.sum(data[above_65_2015_norway][:, 4])\n",
    "print('finland: ')\n",
    "print(finland_count)\n",
    "print('norway: ')\n",
    "print(norway_count)\n",
    "print('sweden: ')\n",
    "print(sweden_count)\n",
    "print('total nordics except DK')\n",
    "print(finland_count + norway_count + sweden_count)\n",
    "\n"
   ]
  },
  {
   "cell_type": "code",
   "execution_count": 6,
   "metadata": {},
   "outputs": [
    {
     "data": {
      "text/plain": [
       "[<matplotlib.lines.Line2D at 0x7f3ddaa5c450>]"
      ]
     },
     "execution_count": 6,
     "metadata": {},
     "output_type": "execute_result"
    },
    {
     "data": {
      "image/png": "[encoded data removed]",
      "text/plain": [
       "<Figure size 432x288 with 1 Axes>"
      ]
     },
     "metadata": {
      "needs_background": "light"
     },
     "output_type": "display_data"
    }
   ],
   "source": [
    "year_list = np.unique(data[:,0])\n",
    "vesterbro = {year: np.sum(data[(data[:,0] == year) & (data[:,1] == 4)][:,4]) for year in year_list}\n",
    "osterbro = {year: np.sum(data[(data[:,0] == year) & (data[:,1] == 2)][:,4]) for year in year_list}\n",
    "\n",
    "vx, vy = zip(*vesterbro.items())\n",
    "ox, oy = zip(*osterbro.items())\n",
    "\n",
    "plot.plot(vx,vy)\n",
    "plot.plot(ox, oy)"
   ]
  },
  {
   "cell_type": "code",
   "execution_count": null,
   "metadata": {},
   "outputs": [],
   "source": []
  }
 ],
 "metadata": {
  "kernelspec": {
   "display_name": "Python 3",
   "language": "python",
   "name": "python3"
  },
  "language_info": {
   "codemirror_mode": {
    "name": "ipython",
    "version": 3
   },
   "file_extension": ".py",
   "mimetype": "text/x-python",
   "name": "python",
   "nbconvert_exporter": "python",
   "pygments_lexer": "ipython3",
   "version": "3.7.6"
  }
 },
 "nbformat": 4,
 "nbformat_minor": 4
}
