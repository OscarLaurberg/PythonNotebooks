{
 "cells": [
  {
   "cell_type": "code",
   "execution_count": 1,
   "metadata": {},
   "outputs": [
    {
     "name": "stdout",
     "output_type": "stream",
     "text": [
      "['Holger', 'Henrik', 'HAlex']\n"
     ]
    }
   ],
   "source": [
    "names = list(['Oscar', 'Mads', 'Holger', 'Henrik', 'Benjamin', 'HAlex'])\n",
    "nameStartingWithH = [name for name in names if name[0].lower() == 'h']\n",
    "print(nameStartingWithH)"
   ]
  },
  {
   "cell_type": "code",
   "execution_count": 2,
   "metadata": {},
   "outputs": [
    {
     "name": "stdout",
     "output_type": "stream",
     "text": [
      "[3, 6, 9, 12, 15, 18, 21, 24, 27, 30, 33, 36, 39, 42, 45, 48, 51, 54, 57, 60, 63, 66, 69, 72, 75, 78, 81, 84, 87, 90, 93, 96, 99, 102, 105, 108, 111, 114, 117, 120, 123, 126, 129, 132, 135, 138, 141, 144, 147, 150, 153, 156, 159, 162, 165, 168, 171, 174, 177, 180, 183, 186, 189, 192, 195, 198, 201, 204, 207, 210, 213, 216, 219, 222, 225, 228, 231, 234, 237, 240, 243, 246, 249, 252, 255, 258, 261, 264, 267, 270, 273, 276, 279, 282, 285, 288, 291, 294, 297, 300]\n"
     ]
    }
   ],
   "source": [
    "powerOf3 = [num*3 for num in range(1, 101)]\n",
    "print(powerOf3)"
   ]
  },
  {
   "cell_type": "code",
   "execution_count": 3,
   "metadata": {},
   "outputs": [
    {
     "name": "stdout",
     "output_type": "stream",
     "text": [
      "[(4, 'Lone'), (4, 'Lars'), (4, 'John'), (6, 'Ulrich'), (6, 'Troels'), (3, 'Tim')]\n"
     ]
    }
   ],
   "source": [
    "names = list(['Lone','Lars','John','Ulrich','Troels','Tim'])\n",
    "tuples = [(len(name), name,) for name in names]\n",
    "print(tuples)"
   ]
  },
  {
   "cell_type": "code",
   "execution_count": 4,
   "metadata": {},
   "outputs": [
    {
     "name": "stdout",
     "output_type": "stream",
     "text": [
      "['1', '2', '1', '2', '2', '9', '9']\n"
     ]
    }
   ],
   "source": [
    "stringIncludingNums = 'ase12cwfsae12gg299'\n",
    "numbers = [num for num in stringIncludingNums if num.isdigit()]\n",
    "print(numbers)\n"
   ]
  },
  {
   "cell_type": "code",
   "execution_count": 5,
   "metadata": {},
   "outputs": [
    {
     "name": "stdout",
     "output_type": "stream",
     "text": [
      "{(1, 3), (6, 6), (5, 6), (2, 1), (6, 2), (1, 6), (5, 1), (2, 5), (1, 2), (3, 3), (5, 5), (4, 4), (6, 3), (1, 5), (3, 6), (2, 2), (4, 1), (1, 1), (6, 4), (3, 2), (2, 6), (5, 4), (4, 5), (5, 2), (1, 4), (2, 3), (4, 2), (6, 5), (3, 5), (5, 3), (4, 6), (6, 1), (3, 1), (4, 3), (3, 4), (2, 4)}\n"
     ]
    }
   ],
   "source": [
    "diceCombinations = set([(x,y) for x in range (1,7)\n",
    "                       for y in range(1,7)])\n",
    "print(diceCombinations);\n"
   ]
  },
  {
   "cell_type": "code",
   "execution_count": 6,
   "metadata": {},
   "outputs": [
    {
     "name": "stdout",
     "output_type": "stream",
     "text": [
      "[{'Lone': 4}, {'Lars': 4}, {'John': 4}, {'Ulrich': 6}, {'Troels': 6}, {'Tim': 3}]\n"
     ]
    }
   ],
   "source": [
    "names = list(['Lone','Lars','John','Ulrich','Troels','Tim'])\n",
    "nameDict = [{name:len(name)} for name in names]\n",
    "print(nameDict)"
   ]
  },
  {
   "cell_type": "code",
   "execution_count": 7,
   "metadata": {},
   "outputs": [
    {
     "name": "stdout",
     "output_type": "stream",
     "text": [
      "[{99: 9.9498743710662}, {21: 4.58257569495584}, {33: 5.744562646538029}, {44: 6.6332495807108}, {55: 7.416198487095663}, {124: 11.135528725660043}, {999: 31.606961258558215}]\n"
     ]
    }
   ],
   "source": [
    "import math\n",
    "numbers = ([99, 21, 33, 44, 55, 124, 999])\n",
    "numbersDict = [{number:math.sqrt(number)} for number in numbers]\n",
    "\n",
    "\n",
    "print(numbersDict)\n"
   ]
  },
  {
   "cell_type": "code",
   "execution_count": null,
   "metadata": {},
   "outputs": [],
   "source": []
  }
 ],
 "metadata": {
  "kernelspec": {
   "display_name": "Python 3",
   "language": "python",
   "name": "python3"
  },
  "language_info": {
   "codemirror_mode": {
    "name": "ipython",
    "version": 3
   },
   "file_extension": ".py",
   "mimetype": "text/x-python",
   "name": "python",
   "nbconvert_exporter": "python",
   "pygments_lexer": "ipython3",
   "version": "3.7.6"
  }
 },
 "nbformat": 4,
 "nbformat_minor": 4
}
