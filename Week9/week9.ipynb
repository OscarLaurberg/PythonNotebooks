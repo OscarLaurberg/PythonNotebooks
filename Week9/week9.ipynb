{
 "metadata": {
  "language_info": {
   "codemirror_mode": {
    "name": "ipython",
    "version": 3
   },
   "file_extension": ".py",
   "mimetype": "text/x-python",
   "name": "python",
   "nbconvert_exporter": "python",
   "pygments_lexer": "ipython3",
   "version": "3.7.6-final"
  },
  "orig_nbformat": 2,
  "kernelspec": {
   "name": "python37664bitcondavirtualenvbb16478413a646e6b32c9d90d84f6982",
   "display_name": "Python 3.7.6 64-bit ('conda': virtualenv)"
  }
 },
 "nbformat": 4,
 "nbformat_minor": 2,
 "cells": [
  {
   "cell_type": "code",
   "execution_count": 2,
   "metadata": {},
   "outputs": [],
   "source": [
    "import urllib.request as urlReq\n",
    "import gzip\n",
    "\n",
    "\"\"\"\n",
    "\n",
    "https://snap.stanford.edu/data/wiki-Vote.html\n",
    "\n",
    "Use python to download the .txt.gz file. Exercise1:\n",
    "\n",
    "1) Create a python notebook, and download the dataset from the link above.\n",
    "2) Use python to create a new file and copy all the data from the .txt.gz into a .txt file.\n",
    "3) Use networkx to add the nodes from the file we just created: https://networkx.org/documentation/stable/reference/classes/graph.html\n",
    "4) Make a random number generator that is able to create a number between 1 and the length of your Undirected graphs.\n",
    "5) Print all the neighbouring nodes, of the randomly generated id.\n",
    "6) Make a visual presentation of the randomly generated id in the notebooks. nx.draw()\n",
    "\n",
    "Exercise2:\n",
    "\n",
    "1) Make a simple flask server with one, get endpoint /wiki/randomNodes.\n",
    "  a) Make it write Hello World.\n",
    "2) Edit the /wiki/randomNodes endpoint to print the randomly generated node, and all the neightboring nodes.\n",
    "\n",
    "Made by: Lucky drawing\n",
    "\"\"\"\n",
    "\n",
    "#1) Create a python notebook, and download the dataset from the link above.\n",
    "\n",
    "url = 'https://snap.stanford.edu/data/wiki-Vote.txt.gz'\n",
    "urlReq.urlretrieve(url, '../downloads/wiki-vote.txt.gz')\n",
    "\n",
    "#2) Use python to create a new file and copy all the data from the .txt.gz into a .txt file.\n",
    "\n",
    "with gzip.open('../downloads/wiki-vote.txt.gz','rb') as f_in:\n",
    "    wiki_vote_data = f_in.read()\n",
    "    with open('../downloads/wiki-vote.txt', 'wb') as f_out:\n",
    "        f_out.write(wiki_vote_data)\n",
    "\n"
   ]
  },
  {
   "cell_type": "code",
   "execution_count": 3,
   "metadata": {
    "tags": []
   },
   "outputs": [
    {
     "output_type": "stream",
     "name": "stdout",
     "text": [
      "Name: \nType: Graph\nNumber of nodes: 7115\nNumber of edges: 100762\nAverage degree:  28.3238\n"
     ]
    },
    {
     "output_type": "execute_result",
     "data": {
      "text/plain": [
       "'731'"
      ]
     },
     "metadata": {},
     "execution_count": 3
    }
   ],
   "source": [
    "import networkx as nx\n",
    "import random as rand\n",
    "\n",
    "# 3) Use networkx to add the nodes from the file we just created: https://networkx.org/documentation/stable/reference/classes/graph.html\n",
    "\n",
    "G = nx.read_edgelist('../downloads/wiki-vote.txt')\n",
    "print(nx.info(G))\n",
    "\n",
    "# 4) Make a random number generator that is able to create a number between 1 and the length of your Undirected graphs.\n",
    "\n",
    "def makeRandomNumber():\n",
    "    return rand.choice(list(G.nodes()))\n",
    "\n",
    "makeRandomNumber()"
   ]
  },
  {
   "cell_type": "code",
   "execution_count": 6,
   "metadata": {},
   "outputs": [
    {
     "output_type": "stream",
     "name": "stdout",
     "text": [
      "7170\n"
     ]
    },
    {
     "output_type": "display_data",
     "data": {
      "text/plain": "<Figure size 432x288 with 1 Axes>",
      "image/svg+xml": "<?xml version=\"1.0\" encoding=\"utf-8\" standalone=\"no\"?>\n<!DOCTYPE svg PUBLIC \"-//W3C//DTD SVG 1.1//EN\"\n  \"http://www.w3.org/Graphics/SVG/1.1/DTD/svg11.dtd\">\n<!-- Created with matplotlib (https://matplotlib.org/) -->\n<svg height=\"302.4pt\" version=\"1.1\" viewBox=\"0 0 446.4 302.4\" width=\"446.4pt\" xmlns=\"http://www.w3.org/2000/svg\" xmlns:xlink=\"http://www.w3.org/1999/xlink\">\n <defs>\n  <style type=\"text/css\">\n*{stroke-linecap:butt;stroke-linejoin:round;}\n  </style>\n </defs>\n <g id=\"figure_1\">\n  <g id=\"patch_1\">\n   <path d=\"M 0 302.4 \nL 446.4 302.4 \nL 446.4 0 \nL 0 0 \nz\n\" style=\"fill:#ffffff;\"/>\n  </g>\n  <g id=\"axes_1\">\n   <g id=\"PathCollection_1\">\n    <defs>\n     <path d=\"M 0 8.660254 \nC 2.296726 8.660254 4.499694 7.747755 6.123724 6.123724 \nC 7.747755 4.499694 8.660254 2.296726 8.660254 0 \nC 8.660254 -2.296726 7.747755 -4.499694 6.123724 -6.123724 \nC 4.499694 -7.747755 2.296726 -8.660254 0 -8.660254 \nC -2.296726 -8.660254 -4.499694 -7.747755 -6.123724 -6.123724 \nC -7.747755 -4.499694 -8.660254 -2.296726 -8.660254 0 \nC -8.660254 2.296726 -7.747755 4.499694 -6.123724 6.123724 \nC -4.499694 7.747755 -2.296726 8.660254 0 8.660254 \nz\n\" id=\"m8ec3c1a140\" style=\"stroke:#1f78b4;\"/>\n    </defs>\n    <g clip-path=\"url(#p0ba8da9ee8)\">\n     <use style=\"fill:#1f78b4;stroke:#1f78b4;\" x=\"223.2\" xlink:href=\"#m8ec3c1a140\" y=\"151.2\"/>\n    </g>\n   </g>\n  </g>\n </g>\n <defs>\n  <clipPath id=\"p0ba8da9ee8\">\n   <rect height=\"288\" width=\"432\" x=\"7.2\" y=\"7.2\"/>\n  </clipPath>\n </defs>\n</svg>\n",
      "image/png": "[encoded data removed]"
     },
     "metadata": {}
    }
   ],
   "source": [
    "#5) Print all the neighbouring nodes, of the randomly generated id.\n",
    "\n",
    "randomNumber = makeRandomNumber()\n",
    "print(randomNumber)\n",
    "\n",
    "G[randomNumber]\n",
    "#6) Make a visual presentation of the randomly generated id in the notebooks. nx.draw()\n",
    "H = G.subgraph(G[randomNumber])\n",
    "nx.draw_planar(H)\n",
    "\n",
    "#nx.draw_spectral(G)"
   ]
  },
  {
   "cell_type": "code",
   "execution_count": null,
   "metadata": {},
   "outputs": [],
   "source": []
  }
 ]
}