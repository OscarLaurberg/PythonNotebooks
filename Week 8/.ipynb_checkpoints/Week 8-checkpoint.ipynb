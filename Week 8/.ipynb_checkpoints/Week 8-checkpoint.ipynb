{
 "cells": [
  {
   "cell_type": "code",
   "execution_count": 1,
   "metadata": {},
   "outputs": [
    {
     "data": {
      "text/html": [
       "<div>\n",
       "<style scoped>\n",
       "    .dataframe tbody tr th:only-of-type {\n",
       "        vertical-align: middle;\n",
       "    }\n",
       "\n",
       "    .dataframe tbody tr th {\n",
       "        vertical-align: top;\n",
       "    }\n",
       "\n",
       "    .dataframe thead th {\n",
       "        text-align: right;\n",
       "    }\n",
       "</style>\n",
       "<table border=\"1\" class=\"dataframe\">\n",
       "  <thead>\n",
       "    <tr style=\"text-align: right;\">\n",
       "      <th></th>\n",
       "      <th>firstname</th>\n",
       "      <th>lastname</th>\n",
       "      <th>startdate</th>\n",
       "      <th>enddate</th>\n",
       "      <th>salary</th>\n",
       "    </tr>\n",
       "  </thead>\n",
       "  <tbody>\n",
       "    <tr>\n",
       "      <th>0</th>\n",
       "      <td>Ulrik</td>\n",
       "      <td>Volborg</td>\n",
       "      <td>2003-03-03</td>\n",
       "      <td>2005-08-20</td>\n",
       "      <td>21000</td>\n",
       "    </tr>\n",
       "    <tr>\n",
       "      <th>1</th>\n",
       "      <td>Ulla</td>\n",
       "      <td>Willman</td>\n",
       "      <td>2001-05-04</td>\n",
       "      <td>2005-12-24</td>\n",
       "      <td>32000</td>\n",
       "    </tr>\n",
       "    <tr>\n",
       "      <th>2</th>\n",
       "      <td>Ulfred</td>\n",
       "      <td>Valberg</td>\n",
       "      <td>2001-01-04</td>\n",
       "      <td>2006-10-30</td>\n",
       "      <td>43000</td>\n",
       "    </tr>\n",
       "  </tbody>\n",
       "</table>\n",
       "</div>"
      ],
      "text/plain": [
       "  firstname lastname   startdate     enddate salary\n",
       "0     Ulrik  Volborg  2003-03-03  2005-08-20  21000\n",
       "1      Ulla  Willman  2001-05-04  2005-12-24  32000\n",
       "2    Ulfred  Valberg  2001-01-04  2006-10-30  43000"
      ]
     },
     "execution_count": 1,
     "metadata": {},
     "output_type": "execute_result"
    }
   ],
   "source": [
    "# dataframe to table\n",
    "import pandas as pd \n",
    "from sqlalchemy import create_engine #sqlalchemy helped convert strings to dates seamlessly\n",
    "\n",
    "#cnx = pymysql.connect(user='dev', password='ax2',host='127.0.0.1',port=3307,db='test') \n",
    "con_str = \"mysql+mysqlconnector://root:root@db/db\"\n",
    "engine = create_engine(con_str)\n",
    "#connection = engine.raw_connection()\n",
    "df = pd.DataFrame({'firstname' : ['Ulrik', 'Ulla', 'Ulfred'],\n",
    "                  'lastname':['Volborg','Willman','Valberg'],\n",
    "                  'startdate':['2003-03-03','2001-05-04','2001-01-04'],\n",
    "                  'enddate':['2005-08-20','2005-12-24','2006-10-30'],\n",
    "                  'salary':['21000', '32000', '43000']})\n",
    "df = df.applymap(str)\n",
    "df.to_sql('pythondemo',con=engine, if_exists='append', index = False)\n",
    "df"
   ]
  },
  {
   "cell_type": "code",
   "execution_count": 2,
   "metadata": {},
   "outputs": [
    {
     "data": {
      "text/plain": [
       "[(1, 'Henny', 'Petersen', datetime.datetime(2002, 2, 2, 0, 0), datetime.datetime(2002, 2, 3, 23, 0), 5000.0),\n",
       " (2, 'Hassan', 'Hassani', datetime.datetime(2018, 7, 7, 0, 0), None, 6000.0),\n",
       " (3, 'Hanne', 'Hansen', datetime.datetime(2002, 4, 3, 0, 0), None, 7000.0),\n",
       " (4, 'Jesper', 'FÃ¥rekylling', datetime.datetime(2002, 4, 3, 0, 0), datetime.datetime(2018, 7, 6, 22, 0), 4000.0),\n",
       " (5, 'Ulrik', 'Volborg', datetime.datetime(2003, 3, 3, 0, 0), datetime.datetime(2005, 8, 20, 0, 0), 21000.0),\n",
       " (6, 'Ulla', 'Willman', datetime.datetime(2001, 5, 4, 0, 0), datetime.datetime(2005, 12, 24, 0, 0), 32000.0),\n",
       " (7, 'Ulfred', 'Valberg', datetime.datetime(2001, 1, 4, 0, 0), datetime.datetime(2006, 10, 30, 0, 0), 43000.0),\n",
       " (8, 'Ulrik', 'Volborg', datetime.datetime(2003, 3, 3, 0, 0), datetime.datetime(2005, 8, 20, 0, 0), 21000.0),\n",
       " (9, 'Ulla', 'Willman', datetime.datetime(2001, 5, 4, 0, 0), datetime.datetime(2005, 12, 24, 0, 0), 32000.0),\n",
       " (10, 'Ulfred', 'Valberg', datetime.datetime(2001, 1, 4, 0, 0), datetime.datetime(2006, 10, 30, 0, 0), 43000.0)]"
      ]
     },
     "execution_count": 2,
     "metadata": {},
     "output_type": "execute_result"
    }
   ],
   "source": [
    "import sqlalchemy as s_a\n",
    "SQLALCHEMY_DATABASE_URL = \"mysql+mysqlconnector://root:root@db/db\"\n",
    "engine = s_a.create_engine(SQLALCHEMY_DATABASE_URL)\n",
    "connection = engine.connect()\n",
    "query = 'select * from pythondemo'\n",
    "ResultProxy = connection.execute(query)\n",
    "ResultSet = ResultProxy.fetchall()\n",
    "ResultSet[:]"
   ]
  },
  {
   "cell_type": "code",
   "execution_count": null,
   "metadata": {},
   "outputs": [],
   "source": []
  }
 ],
 "metadata": {
  "kernelspec": {
   "display_name": "Python 3.7.6 64-bit ('conda': virtualenv)",
   "language": "python",
   "name": "python37664bitcondavirtualenvbb16478413a646e6b32c9d90d84f6982"
  },
  "language_info": {
   "codemirror_mode": {
    "name": "ipython",
    "version": 3
   },
   "file_extension": ".py",
   "mimetype": "text/x-python",
   "name": "python",
   "nbconvert_exporter": "python",
   "pygments_lexer": "ipython3",
   "version": "3.7.6"
  }
 },
 "nbformat": 4,
 "nbformat_minor": 4
}
