{
 "cells": [
  {
   "cell_type": "code",
   "execution_count": 77,
   "metadata": {},
   "outputs": [
    {
     "output_type": "display_data",
     "data": {
      "text/plain": "                         0                       1                         2   \\\n0  {'Storkøbenhavn': '105'}  {'Nordsjælland': '23'}  {'Region Sjælland': '4'}   \n\n             3                            4                             5   \\\n0  {'Fyn': '6'}  {'Region Nordjylland': '9'}  {'Region Midtjylland': '27'}   \n\n                    6                  7               8                  9   \\\n0  {'Sydjylland': '7'}  {'Bornholm': '0'}  {'Skåne': '7'}  {'Grønland': '0'}   \n\n                  10                 11                  12  \n0  {'Færøerne': '0'}  {'Udlandet': '7'}  {'Danmark': '155'}  ",
      "text/html": "<div>\n<style scoped>\n    .dataframe tbody tr th:only-of-type {\n        vertical-align: middle;\n    }\n\n    .dataframe tbody tr th {\n        vertical-align: top;\n    }\n\n    .dataframe thead th {\n        text-align: right;\n    }\n</style>\n<table border=\"1\" class=\"dataframe\">\n  <thead>\n    <tr style=\"text-align: right;\">\n      <th></th>\n      <th>0</th>\n      <th>1</th>\n      <th>2</th>\n      <th>3</th>\n      <th>4</th>\n      <th>5</th>\n      <th>6</th>\n      <th>7</th>\n      <th>8</th>\n      <th>9</th>\n      <th>10</th>\n      <th>11</th>\n      <th>12</th>\n    </tr>\n  </thead>\n  <tbody>\n    <tr>\n      <th>0</th>\n      <td>{'Storkøbenhavn': '105'}</td>\n      <td>{'Nordsjælland': '23'}</td>\n      <td>{'Region Sjælland': '4'}</td>\n      <td>{'Fyn': '6'}</td>\n      <td>{'Region Nordjylland': '9'}</td>\n      <td>{'Region Midtjylland': '27'}</td>\n      <td>{'Sydjylland': '7'}</td>\n      <td>{'Bornholm': '0'}</td>\n      <td>{'Skåne': '7'}</td>\n      <td>{'Grønland': '0'}</td>\n      <td>{'Færøerne': '0'}</td>\n      <td>{'Udlandet': '7'}</td>\n      <td>{'Danmark': '155'}</td>\n    </tr>\n  </tbody>\n</table>\n</div>"
     },
     "metadata": {}
    },
    {
     "output_type": "stream",
     "name": "stdout",
     "text": [
      "<class 'pandas.core.frame.DataFrame'>\n                         0                       1                         2   \\\n0  {'Storkøbenhavn': '105'}  {'Nordsjælland': '23'}  {'Region Sjælland': '4'}   \n\n             3                            4                             5   \\\n0  {'Fyn': '6'}  {'Region Nordjylland': '9'}  {'Region Midtjylland': '27'}   \n\n                    6                  7               8                  9   \\\n0  {'Sydjylland': '7'}  {'Bornholm': '0'}  {'Skåne': '7'}  {'Grønland': '0'}   \n\n                  10                 11                  12  \n0  {'Færøerne': '0'}  {'Udlandet': '7'}  {'Danmark': '155'}  \n"
     ]
    }
   ],
   "source": [
    "import bs4\n",
    "import requests\n",
    "import re\n",
    "import pandas as pd\n",
    "import matplotlib.pyplot as plt\n",
    "from sqlalchemy import create_engine\n",
    "\n",
    "def get_job_info(url):\n",
    "    html = requests.get(url)\n",
    "    soup = bs4.BeautifulSoup(html.text, 'html.parser')\n",
    "    areas = {}\n",
    "    area_divs = soup.findAll('div', {'id': 'areas'})\n",
    "    area_a_tags = []\n",
    "\n",
    "    for area in area_divs:\n",
    "        area_a_tags.extend(area.findAll('a'))\n",
    "\n",
    "    i = 0\n",
    "    for area in area_a_tags:\n",
    "        areas_kv = {}\n",
    "        split_string = re.split('(\\d+)',area.getText().strip())\n",
    "        key = split_string[0]\n",
    "        value = (split_string[1])\n",
    "        areas_kv = { i : {key: value} }\n",
    "        areas.update(areas_kv)\n",
    "        i = i+1\n",
    "    #plt.bar(sort_amount_of_jobs.keys(), sort_amount_of_jobs.values())\n",
    "   \n",
    "     #display(py_df)\n",
    " \n",
    "\n",
    "    return areas\n",
    "\n",
    "py_url = 'https://www.jobindex.dk/jobsoegning?q=python'\n",
    "df = get_job_info(py_url)\n",
    "#print(df)\n",
    "df = pd.DataFrame([df])\n",
    "display(df)\n",
    "print(type(df))\n",
    "\n",
    "print(df)\n",
    "con_str = \"mysql+mysqlconnector://root:root@db/db\"\n",
    "engine = create_engine(con_str)\n",
    "df = df.applymap(str)\n",
    "df.to_sql('py',con=engine, if_exists='append', index = False)\n",
    "\n"
   ]
  },
  {
   "cell_type": "code",
   "execution_count": 78,
   "metadata": {},
   "outputs": [
    {
     "output_type": "execute_result",
     "data": {
      "text/plain": [
       "[(\"{'Storkøbenhavn': '105'}\", \"{'Nordsjælland': '23'}\", \"{'Region Sjælland': '4'}\", \"{'Fyn': '6'}\", \"{'Region Nordjylland': '9'}\", \"{'Region Midtjylland': '27'}\", \"{'Sydjylland': '7'}\", \"{'Bornholm': '0'}\", \"{'Skåne': '7'}\", \"{'Grønland': '0'}\", \"{'Færøerne': '0'}\", \"{'Udlandet': '7'}\", \"{'Danmark': '155'}\"),\n",
       " (\"{'Storkøbenhavn': '105'}\", \"{'Nordsjælland': '23'}\", \"{'Region Sjælland': '4'}\", \"{'Fyn': '6'}\", \"{'Region Nordjylland': '9'}\", \"{'Region Midtjylland': '27'}\", \"{'Sydjylland': '7'}\", \"{'Bornholm': '0'}\", \"{'Skåne': '7'}\", \"{'Grønland': '0'}\", \"{'Færøerne': '0'}\", \"{'Udlandet': '7'}\", \"{'Danmark': '155'}\")]"
      ]
     },
     "metadata": {},
     "execution_count": 78
    }
   ],
   "source": [
    "import sqlalchemy as s_a\n",
    "SQLALCHEMY_DATABASE_URL = \"mysql+mysqlconnector://root:root@db/db\"\n",
    "engine = s_a.create_engine(SQLALCHEMY_DATABASE_URL)\n",
    "connection = engine.connect()\n",
    "query = 'select * from staasas'\n",
    "ResultProxy = connection.execute(query)\n",
    "ResultSet = ResultProxy.fetchall()\n",
    "ResultSet[:]"
   ]
  },
  {
   "cell_type": "code",
   "execution_count": 81,
   "metadata": {},
   "outputs": [
    {
     "output_type": "display_data",
     "data": {
      "text/plain": "                        0                      1                         2   \\\n0  {'Storkøbenhavn': '60'}  {'Nordsjælland': '8'}  {'Region Sjælland': '4'}   \n\n             3                            4                             5   \\\n0  {'Fyn': '3'}  {'Region Nordjylland': '7'}  {'Region Midtjylland': '26'}   \n\n                    6                  7               8                  9   \\\n0  {'Sydjylland': '6'}  {'Bornholm': '0'}  {'Skåne': '6'}  {'Grønland': '0'}   \n\n                  10                 11                  12  \n0  {'Færøerne': '0'}  {'Udlandet': '5'}  {'Danmark': '101'}  ",
      "text/html": "<div>\n<style scoped>\n    .dataframe tbody tr th:only-of-type {\n        vertical-align: middle;\n    }\n\n    .dataframe tbody tr th {\n        vertical-align: top;\n    }\n\n    .dataframe thead th {\n        text-align: right;\n    }\n</style>\n<table border=\"1\" class=\"dataframe\">\n  <thead>\n    <tr style=\"text-align: right;\">\n      <th></th>\n      <th>0</th>\n      <th>1</th>\n      <th>2</th>\n      <th>3</th>\n      <th>4</th>\n      <th>5</th>\n      <th>6</th>\n      <th>7</th>\n      <th>8</th>\n      <th>9</th>\n      <th>10</th>\n      <th>11</th>\n      <th>12</th>\n    </tr>\n  </thead>\n  <tbody>\n    <tr>\n      <th>0</th>\n      <td>{'Storkøbenhavn': '60'}</td>\n      <td>{'Nordsjælland': '8'}</td>\n      <td>{'Region Sjælland': '4'}</td>\n      <td>{'Fyn': '3'}</td>\n      <td>{'Region Nordjylland': '7'}</td>\n      <td>{'Region Midtjylland': '26'}</td>\n      <td>{'Sydjylland': '6'}</td>\n      <td>{'Bornholm': '0'}</td>\n      <td>{'Skåne': '6'}</td>\n      <td>{'Grønland': '0'}</td>\n      <td>{'Færøerne': '0'}</td>\n      <td>{'Udlandet': '5'}</td>\n      <td>{'Danmark': '101'}</td>\n    </tr>\n  </tbody>\n</table>\n</div>"
     },
     "metadata": {}
    },
    {
     "output_type": "stream",
     "name": "stdout",
     "text": [
      "<class 'pandas.core.frame.DataFrame'>\n"
     ]
    }
   ],
   "source": [
    "java_url = 'https://www.jobindex.dk/jobsoegning?q=java'\n",
    "df = get_job_info(java_url)\n",
    "#print(df)\n",
    "df = pd.DataFrame([df])\n",
    "display(df)\n",
    "print(type(df))\n",
    "\n",
    "#print(df)\n",
    "con_str = \"mysql+mysqlconnector://root:root@db/db\"\n",
    "engine = create_engine(con_str)\n",
    "df = df.applymap(str)\n",
    "df.to_sql('java',con=engine, if_exists='append', index = False)"
   ]
  },
  {
   "cell_type": "code",
   "execution_count": null,
   "metadata": {},
   "outputs": [],
   "source": [
    "js_url = 'https://www.jobindex.dk/jobsoegning?q=javascript'\n",
    "df = get_job_info(js_url)\n",
    "#print(df)\n",
    "df = pd.DataFrame([df])\n",
    "display(df)\n",
    "print(type(df))\n",
    "\n",
    "#print(df)\n",
    "con_str = \"mysql+mysqlconnector://root:root@db/db\"\n",
    "engine = create_engine(con_str)\n",
    "df = df.applymap(str)\n",
    "df.to_sql('js',con=engine, if_exists='append', index = False)"
   ]
  },
  {
   "cell_type": "code",
   "execution_count": null,
   "metadata": {},
   "outputs": [],
   "source": []
  },
  {
   "cell_type": "code",
   "execution_count": null,
   "metadata": {},
   "outputs": [],
   "source": []
  }
 ],
 "metadata": {
  "kernelspec": {
   "display_name": "Python 3.7.6 64-bit ('conda': virtualenv)",
   "language": "python",
   "name": "python37664bitcondavirtualenvbb16478413a646e6b32c9d90d84f6982"
  },
  "language_info": {
   "codemirror_mode": {
    "name": "ipython",
    "version": 3
   },
   "file_extension": ".py",
   "mimetype": "text/x-python",
   "name": "python",
   "nbconvert_exporter": "python",
   "pygments_lexer": "ipython3",
   "version": "3.7.6-final"
  }
 },
 "nbformat": 4,
 "nbformat_minor": 4
}