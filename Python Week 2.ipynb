{
 "cells": [
  {
   "cell_type": "markdown",
   "metadata": {},
   "source": [
    "<h1> Exercise 1 </h1>\n",
    "Create a python file with 3 functions:<br>\n",
    "def print_file_content(file) that can print content of a csv file to the console<br>\n",
    "def write_list_to_file(output_file, lst) that can take a list of tuple and write each element to a new line in file<br>\n",
    "rewrite the function so that it gets an arbitrary number of strings instead of a list<br>\n",
    "def read_csv(input_file) that take a csv file and read each row into a list\n"
   ]
  },
  {
   "cell_type": "code",
   "execution_count": 1,
   "metadata": {},
   "outputs": [],
   "source": [
    "import argparse\n",
    "\n",
    "\n",
    "def print_file_conent(file):\n",
    "  with open(file) as file_object:\n",
    "    contents = file_object.read()\n",
    "\n",
    "    print(contents)\n",
    "\n",
    "\n",
    "#def write_list_to_file(output_file, lst) that can take a list or tuple and write each element to a new line in file\n",
    "#create a helper function that gets an arbitrary number of strings instead of a list\n",
    "\n",
    "\n",
    "def write_list_to_file(output_file, lst):\n",
    "  with open(output_file, 'w') as file_object:\n",
    "    for i in range(len(lst)):\n",
    "      file_object.write(lst[i] + '\\n')\n",
    "\n",
    "\n",
    "#def read_file(input_file) that take a csv file and read each row into a list\n",
    "\n",
    "\n",
    "\n",
    "def read_file(input_file):\n",
    "    with open(input_file) as f_obj:\n",
    "        content = f_obj.readlines()\n",
    "        file_list = []\n",
    "        \n",
    "    for line in content:\n",
    "        file_list.append(line.strip().split(','))\n",
    "        \n",
    "    print(file_list)\n",
    "\n"
   ]
  },
  {
   "cell_type": "markdown",
   "metadata": {},
   "source": [
    "Add a functionality so that the file can be called from cli with 2 arguments<br>\n",
    "1. path to file\n",
    "an argument --file file_name that if given will write the content to file_name or otherwise will print it to the console.\n",
    "Add a --help cli argument to describe how the module is used"
   ]
  }
 ],
 "metadata": {
  "kernelspec": {
   "display_name": "Python 3",
   "language": "python",
   "name": "python3"
  },
  "language_info": {
   "codemirror_mode": {
    "name": "ipython",
    "version": 3
   },
   "file_extension": ".py",
   "mimetype": "text/x-python",
   "name": "python",
   "nbconvert_exporter": "python",
   "pygments_lexer": "ipython3",
   "version": "3.7.6"
  }
 },
 "nbformat": 4,
 "nbformat_minor": 4
}
