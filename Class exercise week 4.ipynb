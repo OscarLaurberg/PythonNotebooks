{
 "cells": [
  {
   "cell_type": "code",
   "execution_count": 48,
   "metadata": {},
   "outputs": [
    {
     "name": "stdout",
     "output_type": "stream",
     "text": [
      "red: [11 12 13] \n",
      "blue: [[10]\n",
      " [15]\n",
      " [20]] \n",
      "green: [12 17 22] \n",
      "teal: [[11 13]\n",
      " [16 18]\n",
      " [21 23]\n",
      " [26 28]] \n",
      "yellow: [10]\n"
     ]
    }
   ],
   "source": [
    "import numpy as np\n",
    "\n",
    "a = np.arange(10, 30).reshape(4, 5)\n",
    "# explanation: comma separates the arrays and colon does the positional selection\n",
    "# 2dArray[rows, columns]\n",
    "# double colon: get every n^th value e.g. ::2 menas print every second value and 2::3 means get every third value starting from third pos.\n",
    "red    = a[0, 1:4]  # get one-dim. subarray of row 0, start:1 (pos=2) end:4 (not included, pos=4)\n",
    "blue   = a[0:3,:2:4]  # get one-dim. subarrays (index 1,2,3) of column 0\n",
    "green  = a[0:3,2] # get a two-dim. subarray of every second element by row and column\n",
    "teal = a[::1,1::2]    # get the second column\n",
    "yellow = a[0:1,0]\n",
    "\n",
    "print('red:',red,'\\nblue:',blue,'\\ngreen:',green,'\\nteal:',teal, '\\nyellow:', yellow)\n"
   ]
  },
  {
   "cell_type": "markdown",
   "metadata": {},
   "source": [
    "Class exercise: cube\n",
    "Slice out [12 13 14] from the above cube using only one slice. e.g: a[:,:,:]\n",
    "Slice out [3 12 21].\n",
    "Slice out all y-values where x is 2 and z is 0."
   ]
  },
  {
   "cell_type": "code",
   "execution_count": 96,
   "metadata": {},
   "outputs": [
    {
     "name": "stdout",
     "output_type": "stream",
     "text": [
      "[12 13 14]\n",
      "[ 3 12 21]\n",
      "[2 5 8]\n"
     ]
    }
   ],
   "source": [
    "a = np.arange(0, 27).reshape((3, 3, 3)) # = (z, y, x)\n",
    "#print('whole cube: \\n',a, '\\n---------------')\n",
    "first = a[1,1]\n",
    "second = a[:,1,0]\n",
    "third = a[0, :, 2]\n",
    "print(first)\n",
    "print(second)\n",
    "print(third)\n",
    "\n"
   ]
  },
  {
   "cell_type": "markdown",
   "metadata": {},
   "source": [
    "<h2>Exercise numpy and csv</h2>\n",
    "load the csv file: befkbhalderstatkode.csv into a numpy ndarray<br>\n",
    "How many german children were 0 years old in 2015?<br>\n",
    "create a function that can take any combination of the 4 parameters:AAR,BYDEL,ALDER,STATKODE and return population data<br>\n",
    "create a new function like previous so that it can sum values for all ages if age is not provided to the function<br>\n",
    "further add functionality to sum values if citizenship or area was not provided to function.<br>\n",
    "create a new function that can also give average values for each year if year whas not provided.<br>\n",
    "create a function, that given year and nationality can return which area had the most of these nationals by that year. Test it by finding out which area had the most Moroccan people in both 1992 and 2015<br>\n",
    "Find the Area(s) where fewest foreingers lived in Copenhagen in 1992 and 2015 respectively<br>\n",
    "Find out what age most French people have in 2015<br>"
   ]
  },
  {
   "cell_type": "code",
   "execution_count": 115,
   "metadata": {},
   "outputs": [
    {
     "name": "stdout",
     "output_type": "stream",
     "text": [
      "<class 'numpy.ndarray'>  of size:  2712585\n",
      "[[2015    1    0 5180    3]\n",
      " [2015    2    0 5180    5]\n",
      " [2015    3    0 5180    7]\n",
      " [2015    4    0 5180    1]\n",
      " [2015    5    0 5180    1]\n",
      " [2015    6    0 5180    2]\n",
      " [2015    8    0 5180    2]\n",
      " [2015    9    0 5180    6]\n",
      " [2015   10    0 5180    8]]\n"
     ]
    },
    {
     "data": {
      "text/plain": [
       "35"
      ]
     },
     "execution_count": 115,
     "metadata": {},
     "output_type": "execute_result"
    }
   ],
   "source": [
    "filename = '../data/befkbhalderstatkode.csv'\n",
    "bef_stats_df = np.genfromtxt(filename, delimiter=',', dtype=np.uint, skip_header=1)\n",
    "print(type(bef_stats_df),' of size: ',bef_stats_df.size)\n",
    "\n",
    "dd = bef_stats_df\n",
    "\n",
    "german_mask = (dd[:,0] == 2015) & (dd[:,3] == 5180) & (dd[:,2] == 0)\n",
    "print(dd[german_mask])\n",
    "\n",
    "np.sum(dd[german_mask][:,4])"
   ]
  },
  {
   "cell_type": "code",
   "execution_count": null,
   "metadata": {},
   "outputs": [],
   "source": []
  }
 ],
 "metadata": {
  "kernelspec": {
   "display_name": "Python 3",
   "language": "python",
   "name": "python3"
  },
  "language_info": {
   "codemirror_mode": {
    "name": "ipython",
    "version": 3
   },
   "file_extension": ".py",
   "mimetype": "text/x-python",
   "name": "python",
   "nbconvert_exporter": "python",
   "pygments_lexer": "ipython3",
   "version": "3.7.6"
  }
 },
 "nbformat": 4,
 "nbformat_minor": 4
}
