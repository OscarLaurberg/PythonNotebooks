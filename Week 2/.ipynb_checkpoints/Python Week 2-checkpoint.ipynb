{
 "cells": [
  {
   "cell_type": "markdown",
   "metadata": {},
   "source": [
    "<h1> Exercise 1 </h1>\n",
    "Create a python file with 3 functions:<br>\n",
    "def print_file_content(file) that can print content of a csv file to the console<br>\n",
    "def write_list_to_file(output_file, lst) that can take a list of tuple and write each element to a new line in file<br>\n",
    "rewrite the function so that it gets an arbitrary number of strings instead of a list<br>\n",
    "def read_csv(input_file) that take a csv file and read each row into a list\n"
   ]
  },
  {
   "cell_type": "code",
   "execution_count": 1,
   "metadata": {},
   "outputs": [],
   "source": [
    "import argparse\n",
    "\n",
    "\n",
    "def print_file_conent(file):\n",
    "  with open(file) as file_object:\n",
    "    contents = file_object.read()\n",
    "\n",
    "    print(contents)\n",
    "\n",
    "\n",
    "#def write_list_to_file(output_file, lst) that can take a list or tuple and write each element to a new line in file\n",
    "#create a helper function that gets an arbitrary number of strings instead of a list\n",
    "\n",
    "\n",
    "def write_list_to_file(output_file, lst):\n",
    "  with open(output_file, 'w') as file_object:\n",
    "    for i in range(len(lst)):\n",
    "      file_object.write(lst[i] + '\\n')\n",
    "\n",
    "\n",
    "#def read_file(input_file) that take a csv file and read each row into a list\n",
    "\n",
    "\n",
    "\n",
    "def read_file(input_file):\n",
    "    with open(input_file) as f_obj:\n",
    "        content = f_obj.readlines()\n",
    "        file_list = []\n",
    "        \n",
    "    for line in content:\n",
    "        file_list.append(line.strip().split(','))\n",
    "        \n",
    "    print(file_list)\n",
    "\n"
   ]
  },
  {
   "cell_type": "markdown",
   "metadata": {},
   "source": [
    "Add a functionality so that the file can be called from cli with 2 arguments<br>\n",
    "1. path to file\n",
    "2. an argument --file file_name that if given will write the content to file_name or otherwise will print it to the console.\n",
    "3. Add a --help cli argument to describe how the module is used"
   ]
  },
  {
   "cell_type": "code",
   "execution_count": null,
   "metadata": {},
   "outputs": [],
   "source": [
    "import argparse\n",
    "parser = argparse.ArgumentParser(description='A program that takes an input file, and writes it to either the console or a to an output file')\n",
    "\n",
    "if __name__ == '__main__':\n",
    "    parser.add_argument('inputFile', help='Name of input file (including file-extension). Must be in the exact same directory as this file.')\n",
    "    parser.add_argument('--o','--outputFile', help='Name of the output file.')\n",
    "    args = parser.parse_args()\n",
    "\n",
    "    \n",
    "    with open(args.inputFile,'r') as file_object:\n",
    "        inputFileText = file_object.read()\n",
    "\n",
    "    if args.outputFile:\n",
    "        with open(args.outputFile, 'w') as file_object:\n",
    "            file_object.write(inputFileText)\n",
    "\n",
    "    else:\n",
    "        print(inputFileText)"
   ]
  },
  {
   "cell_type": "markdown",
   "metadata": {},
   "source": [
    "<h1>Exercise 2</h1>\n",
    "\n",
    "Create a module called utils.py with the following 5 functions:\n",
    "\n",
    "1. def get_file_names(folderpath,out=output.txt):\n",
    "    \"\"\" takes a path to a folder and writes all filenames in the folder to a specified output file\"\"\"\n",
    "\n",
    "2. def get_all_file_names(folderpath,out=output.txt):\n",
    "    \"\"\"takes a path to a folder and write all filenames recursively (files of all sub folders to)\"\"\"\n",
    "\n",
    "3. def print_line_one(file_names):\n",
    "    \"\"\"takes a list of filenames and print the first line of each\"\"\"\n",
    "\n",
    "4. def print_emails(file_names):\n",
    "    \"\"\"takes a list of filenames and print each line that contains an email (just look for @)\"\"\"\n",
    "\n",
    "5. def write_headlines(md_files, out=output.txt):\n",
    "    \"\"\"takes a list of md files and writes all headlines (lines starting with #) to a file\"\"\"\n"
   ]
  },
  {
   "cell_type": "code",
   "execution_count": 2,
   "metadata": {},
   "outputs": [
    {
     "name": "stdout",
     "output_type": "stream",
     "text": [
      "First line in: ./file-names.txt\n",
      ".ipynb_checkpoints\n",
      "\n",
      "First line in: ./input-file.txt\n",
      "Hello\n",
      "\n"
     ]
    }
   ],
   "source": [
    "import os\n",
    "\n",
    "\n",
    "\n",
    "# \"\"\" takes a path to a folder and writes all filenames in the folder to a specified output file\"\"\"\n",
    "def get_file_names(dir_path, output_file):\n",
    "  dir_list = os.listdir(dir_path)\n",
    "  with open(output_file, 'w') as file_object:\n",
    "    for line in dir_list:\n",
    "      file_object.write(line + \"\\n\")\n",
    "\n",
    "\n",
    "\n",
    "#  \"\"\"takes a path to a folder and write all filenames recursively (files of all sub folders to)\"\"\"\n",
    "def get_all_file_names(path,output_file):\n",
    "  file_list = []\n",
    "  for root, dirs, files in os.walk(\".\", topdown=False):\n",
    "    for name in files:\n",
    "      file_list.append(os.path.join(root, name))\n",
    "    for name in dirs:\n",
    "      file_list.append(os.path.join(root, name))\n",
    "  with open(output_file, 'w') as file_object:\n",
    "    for line in file_list:\n",
    "      file_object.write(line + '\\n')\n",
    "\n",
    "\n",
    "\n",
    "\n",
    "# \"\"\"takes a list of filenames and print the first line of each\"\"\"\n",
    "\n",
    "def print_line_one(file_list):\n",
    "    for file in file_list:\n",
    "        with open(file,'r') as file_object:\n",
    "            print(\"First line in: \" + file + \"\\n\" + file_object.readlines()[0])\n",
    "lst_files = ['./file-names.txt','./input-file.txt']\n",
    "print_line_one(lst_files);\n",
    "\n",
    "#\"\"\"takes a list of filenames and print each line that contains an email (just look for @)\"\"\"\n",
    "def print_emails(file_names):\n",
    "    for file in file_names:\n",
    "      with open(file,'r') as file_object:\n",
    "        for line in file_object.readlines():\n",
    "          if '@' in line:\n",
    "            print(line)\n",
    "\n",
    "\n",
    "#    \"\"\"takes a list of md files and writes all headlines (lines starting with #) to a file\"\"\"\n",
    "def write_headlines(md_files, output_file):\n",
    "    output_list = []\n",
    "    for file in md_files:\n",
    "      with open(file, 'r') as file_object:\n",
    "           for line in file_object.readlines():\n",
    "              if line[0] == '#':\n",
    "                  output_list.append(line);\n",
    "      with open(output_file, 'w') as file_object:\n",
    "           for line in output_list:\n",
    "              file_object.write(line)\n"
   ]
  },
  {
   "cell_type": "markdown",
   "metadata": {},
   "source": [
    " Make sure your module can be called both from cli and imported to another module Create a new module that imports utils.py and test each function."
   ]
  },
  {
   "cell_type": "code",
   "execution_count": 13,
   "metadata": {},
   "outputs": [
    {
     "name": "stdout",
     "output_type": "stream",
     "text": [
      "Function 1: \n",
      "Function 2: \n",
      "Function 3: \n",
      "First line in: ./file-names.txt\n",
      ".ipynb_checkpoints\n",
      "\n",
      "First line in: ./input-file.txt\n",
      "Hello\n",
      "\n",
      "Function 4: \n",
      "3rd line oscarlaurberg@hotmail.com\n",
      "2nd line lortelotte2@yahoo.dk\n",
      "\n",
      "Function 5: \n"
     ]
    }
   ],
   "source": [
    "import utils as ut\n",
    "\n",
    "print('Function 1: ')\n",
    "file_name = 'file-names.txt'\n",
    "ut.get_file_names('./','file-names.txt')\n",
    "\n",
    "print('Function 2: ')\n",
    "output_file = 'files-and-subfolders.txt'\n",
    "ut.get_all_file_names('./', output_file)\n",
    "\n",
    "print('Function 3: ')\n",
    "lst_files = ['./file-names.txt','./input-file.txt']\n",
    "ut.print_line_one(lst_files)\n",
    "\n",
    "print('Function 4: ')\n",
    "email_list = ['./email-list01.txt','./email-list02.txt']\n",
    "ut.print_emails(email_list)\n",
    "\n",
    "print('Function 5: ')\n",
    "\n",
    "md_list = ['./md-files/file-one.md','./md-files/file-two.md']\n",
    "output_file2 = './headlines-output.txt'\n",
    "ut.write_headlines(md_list,output_file2)\n"
   ]
  },
  {
   "cell_type": "code",
   "execution_count": null,
   "metadata": {},
   "outputs": [],
   "source": []
  }
 ],
 "metadata": {
  "kernelspec": {
   "display_name": "Python 3",
   "language": "python",
   "name": "python3"
  },
  "language_info": {
   "codemirror_mode": {
    "name": "ipython",
    "version": 3
   },
   "file_extension": ".py",
   "mimetype": "text/x-python",
   "name": "python",
   "nbconvert_exporter": "python",
   "pygments_lexer": "ipython3",
   "version": "3.7.6"
  }
 },
 "nbformat": 4,
 "nbformat_minor": 4
}
